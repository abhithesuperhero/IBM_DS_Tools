{
 "cells": [
  {
   "cell_type": "markdown",
   "id": "d2286465",
   "metadata": {},
   "source": [
    "Data Science Tools and Ecosystem"
   ]
  },
  {
   "cell_type": "markdown",
   "id": "1125789c",
   "metadata": {},
   "source": [
    "In this notebook, Data Science Tools and Ecosystem are summarized."
   ]
  },
  {
   "cell_type": "markdown",
   "id": "f82acd62",
   "metadata": {},
   "source": [
    "Objectives:\n",
    "\n",
    "1. In order to be successful in Data Science, you need to be skilled with using tools that Data Science professionals employ as part of their jobs. This course teaches you about the popular tools in Data Science and how to use them. \n",
    "\n",
    "2. You will become familiar with the Data Scientist’s tool kit which includes: Libraries & Packages, Data Sets, Machine Learning Models, Kernels, as well as the various Open source, commercial, Big Data and Cloud-based tools. \n",
    "\n",
    "3. Work with Jupyter Notebooks, JupyterLab, RStudio IDE, Git, GitHub, and Watson Studio. You will understand what each tool is used for, what programming languages they can execute, their features and limitations.  \n",
    "\n",
    "4. Towards the end the course, you will create a final project with a Jupyter Notebook. You will demonstrate your proficiency preparing a notebook, writing Markdown, and sharing your work with your peers."
   ]
  },
  {
   "cell_type": "markdown",
   "id": "13871f51",
   "metadata": {},
   "source": [
    "1. Create a markdown cell introducing arithmetic expression examples\n",
    "2. Create a code cell to multiply and add numbers\n",
    "3. Create a code cell to convert minutes to hours\n",
    "4. List popular languages for Data Science\n",
    "5. Insert a markdown cell to list Objectives"
   ]
  },
  {
   "cell_type": "markdown",
   "id": "d19b3aba",
   "metadata": {},
   "source": [
    "Some of the popular languages that Data Scientists use are:\n",
    "1. Python\n",
    "2. R\n",
    "3. Julia\n",
    "4. SQL\n",
    "5. Scala"
   ]
  },
  {
   "cell_type": "markdown",
   "id": "c73e7c8e",
   "metadata": {},
   "source": [
    "Some of the commonly used libraries used by Data Scientists include:\n",
    "1. Pandas\n",
    "2. Numpys\n",
    "3. cv2\n",
    "4. os\n",
    "5. Scikit-learn\n",
    "6. matplotlib"
   ]
  },
  {
   "cell_type": "markdown",
   "id": "9d2f71aa",
   "metadata": {},
   "source": [
    "Data Science Tools\n",
    "1. Python\n",
    "2. R\n",
    "3. Apache Spark\n",
    "4. Apache Hadoop\n",
    "5. SAS\n",
    "6. Tableau\n",
    "7. TensorFlow\n",
    "8. Matplotlib\n",
    "9. Scikit-learn\n",
    "10. Natural Language Toolkit"
   ]
  },
  {
   "cell_type": "markdown",
   "id": "cb1678a9",
   "metadata": {},
   "source": [
    "Below are a few examples of evaluating arithmetic expressions in Python"
   ]
  },
  {
   "cell_type": "code",
   "execution_count": 3,
   "id": "b41b8a00",
   "metadata": {},
   "outputs": [
    {
     "data": {
      "text/plain": [
       "17"
      ]
     },
     "execution_count": 3,
     "metadata": {},
     "output_type": "execute_result"
    }
   ],
   "source": [
    "#This a simple arithmetic expression to mutiply then add integers\n",
    "(3*4)+5\n"
   ]
  },
  {
   "cell_type": "code",
   "execution_count": 4,
   "id": "af0eb05b",
   "metadata": {},
   "outputs": [
    {
     "name": "stdout",
     "output_type": "stream",
     "text": [
      "Enter the number of minutes: 200\n",
      "200 minutes is equal to 3 hours and 20 minutes.\n"
     ]
    }
   ],
   "source": [
    "def convert_minutes_to_hours(minutes):\n",
    "    hours = minutes // 60\n",
    "    remaining_minutes = minutes % 60\n",
    "    return hours, remaining_minutes\n",
    "\n",
    "minutes = int(input(\"Enter the number of minutes: \"))\n",
    "hours, remaining_minutes = convert_minutes_to_hours(minutes)\n",
    "print(f\"{minutes} minutes is equal to {hours} hours and {remaining_minutes} minutes.\")\n"
   ]
  },
  {
   "cell_type": "markdown",
   "id": "8675c41c",
   "metadata": {},
   "source": [
    "Abhi M G"
   ]
  },
  {
   "cell_type": "code",
   "execution_count": null,
   "id": "d3be92d7",
   "metadata": {},
   "outputs": [],
   "source": []
  }
 ],
 "metadata": {
  "kernelspec": {
   "display_name": "Python 3 (ipykernel)",
   "language": "python",
   "name": "python3"
  },
  "language_info": {
   "codemirror_mode": {
    "name": "ipython",
    "version": 3
   },
   "file_extension": ".py",
   "mimetype": "text/x-python",
   "name": "python",
   "nbconvert_exporter": "python",
   "pygments_lexer": "ipython3",
   "version": "3.11.5"
  }
 },
 "nbformat": 4,
 "nbformat_minor": 5
}
